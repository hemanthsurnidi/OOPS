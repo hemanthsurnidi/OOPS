{
  "nbformat": 4,
  "nbformat_minor": 0,
  "metadata": {
    "colab": {
      "provenance": []
    },
    "kernelspec": {
      "name": "python3",
      "display_name": "Python 3"
    },
    "language_info": {
      "name": "python"
    }
  },
  "cells": [
    {
      "cell_type": "markdown",
      "source": [
        "**OOPS Theory Questions**"
      ],
      "metadata": {
        "id": "vUrWXe7bISUb"
      }
    },
    {
      "cell_type": "markdown",
      "source": [
        "1. What is Object-Oriented Programming (OOP)?  \n",
        "A. OOP is a programming paradigm that organizes code using objects,  \n",
        "   encapsulating data (attributes) and behavior (methods). It follows principles  \n",
        "   like encapsulation, inheritance, polymorphism, and abstraction.  \n",
        "\n",
        "2. What is a class in OOP?  \n",
        "A. A class is a blueprint for creating objects. It defines attributes (variables)  \n",
        "   and methods (functions) that its objects will have.  \n",
        "\n",
        "3. What is an object in OOP?  \n",
        "A. An object is an instance of a class with specific values for attributes and  \n",
        "   access to defined methods.  \n",
        "\n",
        "4. What is the difference between abstraction and encapsulation?  \n",
        "A. **Abstraction** hides implementation details and only shows essential features.  \n",
        "   **Encapsulation** restricts direct access to some components, protecting object integrity.  \n",
        "\n",
        "5. What are dunder methods in Python?  \n",
        "A. Dunder (double underscore) methods, like `__init__`, `__str__`, and `__len__`,  \n",
        "   are special methods in Python that allow objects to interact with built-in functions  \n",
        "   and operators.  \n",
        "\n",
        "6. Explain the concept of inheritance in OOP.  \n",
        "A. Inheritance allows a class (child) to inherit attributes and methods from  \n",
        "   another class (parent), promoting code reuse.  \n",
        "\n",
        "7. What is polymorphism in OOP?  \n",
        "A. Polymorphism allows objects of different classes to be treated as instances  \n",
        "   of the same class through common interfaces.  \n",
        "\n",
        "8. How is encapsulation achieved in Python?  \n",
        "A. Encapsulation is achieved using access specifiers:  \n",
        "   - **Public**: Accessible anywhere (`self.var`).  \n",
        "   - **Protected**: `_var` (suggests restricted use).  \n",
        "   - **Private**: `__var` (name-mangled, not easily accessible).  \n",
        "\n",
        "9. What is a constructor in Python?  \n",
        "A. A constructor (`__init__` method) initializes an object when it is created.  \n",
        "\n",
        "10. What are class and static methods in Python?  \n",
        "A. Class methods (`@classmethod`) work with class-level data and take `cls` as a  \n",
        "   parameter. Static methods (`@staticmethod`) are independent and don’t use `self` or `cls`.  \n",
        "\n",
        "11. What is method overloading in Python?  \n",
        "A. Python doesn’t support traditional method overloading, but it can be mimicked  \n",
        "   using default parameters or `*args`.  \n",
        "\n",
        "12. What is method overriding in OOP?  \n",
        "A. Method overriding occurs when a subclass provides a specific implementation of  \n",
        "   a method already defined in its parent class.  \n",
        "\n",
        "13. What is a property decorator in Python?  \n",
        "A. `@property` is used to create getter methods that behave like attributes.  \n",
        "\n",
        "14. Why is polymorphism important in OOP?  \n",
        "A. Polymorphism enhances flexibility by allowing different classes to be used  \n",
        "   interchangeably through common methods.  \n",
        "\n",
        "15. What is an abstract class in Python?  \n",
        "A. An abstract class (`ABC` module) contains abstract methods that must be  \n",
        "   implemented by subclasses.  \n",
        "\n",
        "16. What are the advantages of OOP?  \n",
        "A. **Advantages of OOP:**  \n",
        "   - Code reusability  \n",
        "   - Scalability  \n",
        "   - Encapsulation for better security  \n",
        "   - Easier maintenance  \n",
        "\n",
        "17. What is the difference between a class variable and an instance variable?  \n",
        "A.  \n",
        "   - **Class variable**: Shared among all instances (`class_var`).  \n",
        "   - **Instance variable**: Unique to each object (`self.instance_var`).  \n",
        "\n",
        "18. What is multiple inheritance in Python?  \n",
        "A. Multiple inheritance allows a class to inherit from multiple parent classes.  \n",
        "\n",
        "19. Explain the purpose of `__str__` and `__repr__` methods in Python.  \n",
        "A.  \n",
        "   - `__str__`: Returns a user-friendly string representation.  \n",
        "   - `__repr__`: Returns a developer-friendly representation.  \n",
        "\n",
        "20. What is the significance of the `super()` function in Python?  \n",
        "A. `super()` calls the parent class’s method, useful in multiple inheritance.  \n",
        "\n",
        "21. What is the significance of the `__del__` method in Python?  \n",
        "A. The `__del__` method is called when an object is deleted, used for cleanup.  \n",
        "\n",
        "22. What is the difference between `@staticmethod` and `@classmethod` in Python?  \n",
        "A.  \n",
        "   - `@staticmethod`: No access to `cls` or `self`.  \n",
        "   - `@classmethod`: Works with class variables, uses `cls`.  \n",
        "\n",
        "23. How does polymorphism work in Python with inheritance?  \n",
        "A. Polymorphism in Python allows methods of a parent class to be overridden  \n",
        "   by subclasses to provide different behaviors.  \n",
        "\n",
        "24. What is method chaining in Python OOP?  \n",
        "A. Method chaining calls multiple methods on the same object consecutively  \n",
        "   (e.g., `obj.method1().method2()`).  \n",
        "\n",
        "25. What is the purpose of the `__call__` method in Python?  \n",
        "A. The `__call__` method makes an instance behave like a function (`obj()`).  \n"
      ],
      "metadata": {
        "id": "lhuO5nWWIb_p"
      }
    },
    {
      "cell_type": "markdown",
      "source": [
        "**OOPS Practical Questions**"
      ],
      "metadata": {
        "id": "9ZOENzkpNBmZ"
      }
    },
    {
      "cell_type": "code",
      "source": [
        "# 1. What is Object-Oriented Programming (OOP)?\n",
        "# Parent Class Animal and Child Class Dog (Method Overriding)\n",
        "\n",
        "class Animal:\n",
        "    def speak(self):\n",
        "        print(\"Generic Animal Sound\")\n",
        "\n",
        "class Dog(Animal):\n",
        "    def speak(self):\n",
        "        print(\"Bark!\")\n",
        "\n",
        "# Example usage\n",
        "dog = Dog()\n",
        "dog.speak()  # Output: Bark!\n"
      ],
      "metadata": {
        "colab": {
          "base_uri": "https://localhost:8080/"
        },
        "id": "eRq8VdymKQrJ",
        "outputId": "bcd950d4-72b7-4f05-cddb-7e157766cfd0"
      },
      "execution_count": 1,
      "outputs": [
        {
          "output_type": "stream",
          "name": "stdout",
          "text": [
            "Bark!\n"
          ]
        }
      ]
    },
    {
      "cell_type": "code",
      "source": [
        "# 2. Write a program to create an abstract class Shape with a method area(). Derive classes Circle and Rectangle from it and implement the area() method in both.\n",
        "\n",
        "from abc import ABC, abstractmethod\n",
        "import math\n",
        "\n",
        "class Shape(ABC):\n",
        "    @abstractmethod\n",
        "    def area(self):\n",
        "        pass\n",
        "\n",
        "class Circle(Shape):\n",
        "    def __init__(self, radius):\n",
        "        self.radius = radius\n",
        "\n",
        "    def area(self):\n",
        "        return math.pi * self.radius ** 2\n",
        "\n",
        "class Rectangle(Shape):\n",
        "    def __init__(self, length, width):\n",
        "        self.length = length\n",
        "        self.width = width\n",
        "\n",
        "    def area(self):\n",
        "        return self.length * self.width\n",
        "\n",
        "# Example usage\n",
        "circle = Circle(5)\n",
        "rectangle = Rectangle(4, 6)\n",
        "\n",
        "print(circle.area())      # Output: 78.53981633974483\n",
        "print(rectangle.area())   # Output: 24\n"
      ],
      "metadata": {
        "colab": {
          "base_uri": "https://localhost:8080/"
        },
        "id": "jY99r86PL3SG",
        "outputId": "17934588-dc22-4dff-c259-ad0c9dcbaf11"
      },
      "execution_count": 2,
      "outputs": [
        {
          "output_type": "stream",
          "name": "stdout",
          "text": [
            "78.53981633974483\n",
            "24\n"
          ]
        }
      ]
    },
    {
      "cell_type": "code",
      "source": [
        "# 3. Implement a multi-level inheritance scenario where a class Vehicle has an attribute type. Derive a class Car and further derive a class ElectricCar that adds a battery attribute.\n",
        "\n",
        "class Vehicle:\n",
        "    def __init__(self, type):\n",
        "        self.type = type\n",
        "\n",
        "class Car(Vehicle):\n",
        "    def __init__(self, type, model):\n",
        "        super().__init__(type)\n",
        "        self.model = model\n",
        "\n",
        "class ElectricCar(Car):\n",
        "    def __init__(self, type, model, battery):\n",
        "        super().__init__(type, model)\n",
        "        self.battery = battery\n",
        "\n",
        "# Example usage\n",
        "electric_car = ElectricCar(\"Electric\", \"Tesla Model S\", \"100 kWh\")\n",
        "print(electric_car.type)      # Output: Electric\n",
        "print(electric_car.model)     # Output: Tesla Model S\n",
        "print(electric_car.battery)   # Output: 100 kWh\n"
      ],
      "metadata": {
        "colab": {
          "base_uri": "https://localhost:8080/"
        },
        "id": "gceLtBs_L3TY",
        "outputId": "8553247b-3f85-43b6-8826-c006eacae4aa"
      },
      "execution_count": 3,
      "outputs": [
        {
          "output_type": "stream",
          "name": "stdout",
          "text": [
            "Electric\n",
            "Tesla Model S\n",
            "100 kWh\n"
          ]
        }
      ]
    },
    {
      "cell_type": "code",
      "source": [
        "# 4. Demonstrate polymorphism by creating a base class Bird with a method fly(). Create two derived classes Sparrow and Penguin that override the fly() method.\n",
        "\n",
        "class Bird:\n",
        "    def fly(self):\n",
        "        print(\"Bird is flying\")\n",
        "\n",
        "class Sparrow(Bird):\n",
        "    def fly(self):\n",
        "        print(\"Sparrow is flying\")\n",
        "\n",
        "class Penguin(Bird):\n",
        "    def fly(self):\n",
        "        print(\"Penguin can't fly\")\n",
        "\n",
        "# Example usage\n",
        "bird = Bird()\n",
        "sparrow = Sparrow()\n",
        "penguin = Penguin()\n",
        "\n",
        "bird.fly()        # Output: Bird is flying\n",
        "sparrow.fly()     # Output: Sparrow is flying\n",
        "penguin.fly()     # Output: Penguin can't fly\n"
      ],
      "metadata": {
        "colab": {
          "base_uri": "https://localhost:8080/"
        },
        "id": "Nr1GQqFfL3Xp",
        "outputId": "194c1f55-9692-43f3-94d5-6e6308a59919"
      },
      "execution_count": 4,
      "outputs": [
        {
          "output_type": "stream",
          "name": "stdout",
          "text": [
            "Bird is flying\n",
            "Sparrow is flying\n",
            "Penguin can't fly\n"
          ]
        }
      ]
    },
    {
      "cell_type": "code",
      "source": [
        "# 5. Write a program to demonstrate encapsulation by creating a class BankAccount with private attributes balance and methods to deposit, withdraw, and check balance.\n",
        "\n",
        "class BankAccount:\n",
        "    def __init__(self, balance):\n",
        "        self.__balance = balance  # Private attribute\n",
        "\n",
        "    def deposit(self, amount):\n",
        "        self.__balance += amount\n",
        "\n",
        "    def withdraw(self, amount):\n",
        "        if amount <= self.__balance:\n",
        "            self.__balance -= amount\n",
        "        else:\n",
        "            print(\"Insufficient funds\")\n",
        "\n",
        "    def check_balance(self):\n",
        "        return self.__balance\n",
        "\n",
        "# Example usage\n",
        "account = BankAccount(1000)\n",
        "account.deposit(500)\n",
        "account.withdraw(200)\n",
        "print(account.check_balance())  # Output: 1300\n"
      ],
      "metadata": {
        "colab": {
          "base_uri": "https://localhost:8080/"
        },
        "id": "8RDHi2t_L3Y-",
        "outputId": "9bf9aa32-61c3-45f0-f0a8-a8dafeef4ec9"
      },
      "execution_count": 5,
      "outputs": [
        {
          "output_type": "stream",
          "name": "stdout",
          "text": [
            "1300\n"
          ]
        }
      ]
    },
    {
      "cell_type": "code",
      "source": [
        "# 6. Demonstrate runtime polymorphism using a method play() in a base class Instrument. Derive classes Guitar and Piano that implement their own version of play().\n",
        "\n",
        "class Instrument:\n",
        "    def play(self):\n",
        "        print(\"Instrument is playing\")\n",
        "\n",
        "class Guitar(Instrument):\n",
        "    def play(self):\n",
        "        print(\"Guitar is strumming\")\n",
        "\n",
        "class Piano(Instrument):\n",
        "    def play(self):\n",
        "        print(\"Piano is playing\")\n",
        "\n",
        "# Example usage\n",
        "instrument = Instrument()\n",
        "guitar = Guitar()\n",
        "piano = Piano()\n",
        "\n",
        "instrument.play()  # Output: Instrument is playing\n",
        "guitar.play()      # Output: Guitar is strumming\n",
        "piano.play()       # Output: Piano is playing\n"
      ],
      "metadata": {
        "colab": {
          "base_uri": "https://localhost:8080/"
        },
        "id": "lyGvACcAL3dP",
        "outputId": "7fb290c7-030a-4633-a744-bb62d6c30cb8"
      },
      "execution_count": 6,
      "outputs": [
        {
          "output_type": "stream",
          "name": "stdout",
          "text": [
            "Instrument is playing\n",
            "Guitar is strumming\n",
            "Piano is playing\n"
          ]
        }
      ]
    },
    {
      "cell_type": "code",
      "source": [
        "# 7. Create a class MathOperations with a class method add_numbers() to add two numbers and a static method subtract_numbers() to subtract two numbers.\n",
        "\n",
        "class MathOperations:\n",
        "    @classmethod\n",
        "    def add_numbers(cls, a, b):\n",
        "        return a + b\n",
        "\n",
        "    @staticmethod\n",
        "    def subtract_numbers(a, b):\n",
        "        return a - b\n",
        "\n",
        "# Example usage\n",
        "print(MathOperations.add_numbers(5, 3))       # Output: 8\n",
        "print(MathOperations.subtract_numbers(5, 3))  # Output: 2\n"
      ],
      "metadata": {
        "colab": {
          "base_uri": "https://localhost:8080/"
        },
        "id": "_uQJ-QVQL3fg",
        "outputId": "fcec7e48-e06e-4fef-9200-5f5d440a3bdb"
      },
      "execution_count": 7,
      "outputs": [
        {
          "output_type": "stream",
          "name": "stdout",
          "text": [
            "8\n",
            "2\n"
          ]
        }
      ]
    },
    {
      "cell_type": "code",
      "source": [
        "# 8. Implement a class Person with a class method to count the total number of persons created.\n",
        "\n",
        "class Person:\n",
        "    person_count = 0\n",
        "\n",
        "    def __init__(self, name):\n",
        "        self.name = name\n",
        "        Person.person_count += 1\n",
        "\n",
        "    @classmethod\n",
        "    def total_persons(cls):\n",
        "        return cls.person_count\n",
        "\n",
        "# Example usage\n",
        "person1 = Person(\"John\")\n",
        "person2 = Person(\"Jane\")\n",
        "print(Person.total_persons())  # Output: 2\n"
      ],
      "metadata": {
        "colab": {
          "base_uri": "https://localhost:8080/"
        },
        "id": "pOJbbQOFL3i3",
        "outputId": "cc80b7ab-3a52-408f-a4f4-c578e92ea67f"
      },
      "execution_count": 8,
      "outputs": [
        {
          "output_type": "stream",
          "name": "stdout",
          "text": [
            "2\n"
          ]
        }
      ]
    },
    {
      "cell_type": "code",
      "source": [
        "# 9. Write a class Fraction with attributes numerator and denominator. Override the str method to display the fraction as \"numerator/denominator\".\n",
        "\n",
        "class Fraction:\n",
        "    def __init__(self, numerator, denominator):\n",
        "        self.numerator = numerator\n",
        "        self.denominator = denominator\n",
        "\n",
        "    def __str__(self):\n",
        "        return f\"{self.numerator}/{self.denominator}\"\n",
        "\n",
        "# Example usage\n",
        "fraction = Fraction(3, 4)\n",
        "print(fraction)  # Output: 3/4\n"
      ],
      "metadata": {
        "colab": {
          "base_uri": "https://localhost:8080/"
        },
        "id": "ibTdFgLNL3ka",
        "outputId": "c34d50d4-2903-4765-fb69-5008c4d127f7"
      },
      "execution_count": 9,
      "outputs": [
        {
          "output_type": "stream",
          "name": "stdout",
          "text": [
            "3/4\n"
          ]
        }
      ]
    },
    {
      "cell_type": "code",
      "source": [
        "# 10. Demonstrate operator overloading by creating a class Vector and overriding the add method to add two vectors.\n",
        "\n",
        "class Vector:\n",
        "    def __init__(self, x, y):\n",
        "        self.x = x\n",
        "        self.y = y\n",
        "\n",
        "    def __add__(self, other):\n",
        "        return Vector(self.x + other.x, self.y + other.y)\n",
        "\n",
        "    def __str__(self):\n",
        "        return f\"({self.x}, {self.y})\"\n",
        "\n",
        "# Example usage\n",
        "vector1 = Vector(1, 2)\n",
        "vector2 = Vector(3, 4)\n",
        "result = vector1 + vector2\n",
        "print(result)  # Output: (4, 6)\n"
      ],
      "metadata": {
        "colab": {
          "base_uri": "https://localhost:8080/"
        },
        "id": "4iBdRZVSL3ou",
        "outputId": "7258b095-75cd-467c-e202-35a703557bc3"
      },
      "execution_count": 10,
      "outputs": [
        {
          "output_type": "stream",
          "name": "stdout",
          "text": [
            "(4, 6)\n"
          ]
        }
      ]
    },
    {
      "cell_type": "code",
      "source": [
        "# 11. Create a class Person with attributes name and age. Add a method greet() that prints \"Hello, my name is {name} and I am {age} years old.\"\n",
        "\n",
        "class Person:\n",
        "    def __init__(self, name, age):\n",
        "        self.name = name\n",
        "        self.age = age\n",
        "\n",
        "    def greet(self):\n",
        "        print(f\"Hello, my name is {self.name} and I am {self.age} years old.\")\n",
        "\n",
        "# Example usage\n",
        "person = Person(\"Alice\", 30)\n",
        "person.greet()  # Output: Hello, my name is Alice and I am 30 years old.\n"
      ],
      "metadata": {
        "colab": {
          "base_uri": "https://localhost:8080/"
        },
        "id": "xb10BxEYL3qI",
        "outputId": "c0e94c3a-6538-4ada-d233-a57a0fb7a4c4"
      },
      "execution_count": 11,
      "outputs": [
        {
          "output_type": "stream",
          "name": "stdout",
          "text": [
            "Hello, my name is Alice and I am 30 years old.\n"
          ]
        }
      ]
    },
    {
      "cell_type": "code",
      "source": [
        "# 12. Implement a class Student with attributes name and grades. Create a method average_grade() to compute the average of the grades.\n",
        "\n",
        "class Student:\n",
        "    def __init__(self, name, grades):\n",
        "        self.name = name\n",
        "        self.grades = grades\n",
        "\n",
        "    def average_grade(self):\n",
        "        return sum(self.grades) / len(self.grades)\n",
        "\n",
        "# Example usage\n",
        "student = Student(\"Bob\", [85, 90, 88])\n",
        "print(student.average_grade())  # Output: 87.66666666666667\n"
      ],
      "metadata": {
        "colab": {
          "base_uri": "https://localhost:8080/"
        },
        "id": "FKRnXi7PL3uh",
        "outputId": "3bf292e5-5c30-4884-a136-6c5777de43e2"
      },
      "execution_count": 12,
      "outputs": [
        {
          "output_type": "stream",
          "name": "stdout",
          "text": [
            "87.66666666666667\n"
          ]
        }
      ]
    },
    {
      "cell_type": "code",
      "source": [
        "# 13. Create a class Rectangle with methods set_dimensions() to set the dimensions and area() to calculate the area.\n",
        "\n",
        "class Rectangle:\n",
        "    def __init__(self):\n",
        "        self.length = 0\n",
        "        self.width = 0\n",
        "\n",
        "    def set_dimensions(self, length, width):\n",
        "        self.length = length\n",
        "        self.width = width\n",
        "\n",
        "    def area(self):\n",
        "        return self.length * self.width\n",
        "\n",
        "# Example usage\n",
        "rect = Rectangle()\n",
        "rect.set_dimensions(4, 5)\n",
        "print(rect.area())  # Output: 20\n"
      ],
      "metadata": {
        "colab": {
          "base_uri": "https://localhost:8080/"
        },
        "id": "UCugz6x2L3v6",
        "outputId": "7eb91b2c-7245-4a44-d243-969a8593f438"
      },
      "execution_count": 13,
      "outputs": [
        {
          "output_type": "stream",
          "name": "stdout",
          "text": [
            "20\n"
          ]
        }
      ]
    },
    {
      "cell_type": "code",
      "source": [
        "# 14. Create a class Employee with a method calculate_salary() that computes the salary based on hours worked and hourly rate. Create a derived class Manager that adds a bonus to the salary.\n",
        "\n",
        "class Employee:\n",
        "    def __init__(self, hours_worked, hourly_rate):\n",
        "        self.hours_worked = hours_worked\n",
        "        self.hourly_rate = hourly_rate\n",
        "\n",
        "    def calculate_salary(self):\n",
        "        return self.hours_worked * self.hourly_rate\n",
        "\n",
        "class Manager(Employee):\n",
        "    def __init__(self, hours_worked, hourly_rate, bonus):\n",
        "        super().__init__(hours_worked, hourly_rate)\n",
        "        self.bonus = bonus\n",
        "\n",
        "    def calculate_salary(self):\n",
        "        return super().calculate_salary() + self.bonus\n",
        "\n",
        "# Example usage\n",
        "manager = Manager(40, 50, 500)\n",
        "print(manager.calculate_salary())  # Output: 2500\n"
      ],
      "metadata": {
        "colab": {
          "base_uri": "https://localhost:8080/"
        },
        "id": "sy2_TP_lL3z8",
        "outputId": "15d32837-0b71-4557-b44d-b511ccc763e6"
      },
      "execution_count": 14,
      "outputs": [
        {
          "output_type": "stream",
          "name": "stdout",
          "text": [
            "2500\n"
          ]
        }
      ]
    },
    {
      "cell_type": "code",
      "source": [
        "# 15. Create a class Product with attributes name, price, and quantity. Implement a method total_price() that calculates the total price of the product.\n",
        "\n",
        "class Product:\n",
        "    def __init__(self, name, price, quantity):\n",
        "        self.name = name\n",
        "        self.price = price\n",
        "        self.quantity = quantity\n",
        "\n",
        "    def total_price(self):\n",
        "        return self.price * self.quantity\n",
        "\n",
        "# Example usage\n",
        "product = Product(\"Laptop\", 50000, 2)\n",
        "print(product.total_price())  # Output: 100000\n"
      ],
      "metadata": {
        "colab": {
          "base_uri": "https://localhost:8080/"
        },
        "id": "7F11DFOIL310",
        "outputId": "51f977ef-314f-46e5-f36f-6f243631da76"
      },
      "execution_count": 15,
      "outputs": [
        {
          "output_type": "stream",
          "name": "stdout",
          "text": [
            "100000\n"
          ]
        }
      ]
    },
    {
      "cell_type": "code",
      "source": [
        "# 16. Create a class Animal with an abstract method sound(). Create two derived classes Cow and Sheep that implement the sound() method.\n",
        "\n",
        "from abc import ABC, abstractmethod\n",
        "\n",
        "class Animal(ABC):\n",
        "    @abstractmethod\n",
        "    def sound(self):\n",
        "        pass\n",
        "\n",
        "class Cow(Animal):\n",
        "    def sound(self):\n",
        "        print(\"Moo!\")\n",
        "\n",
        "class Sheep(Animal):\n",
        "    def sound(self):\n",
        "        print(\"Baa!\")\n",
        "\n",
        "# Example usage\n",
        "cow = Cow()\n",
        "sheep = Sheep()\n",
        "\n",
        "cow.sound()    # Output: Moo!\n",
        "sheep.sound()  # Output: Baa!\n"
      ],
      "metadata": {
        "colab": {
          "base_uri": "https://localhost:8080/"
        },
        "id": "Icr02GNBL35S",
        "outputId": "a49756a0-88ec-4149-921b-51117efc05e4"
      },
      "execution_count": 16,
      "outputs": [
        {
          "output_type": "stream",
          "name": "stdout",
          "text": [
            "Moo!\n",
            "Baa!\n"
          ]
        }
      ]
    },
    {
      "cell_type": "code",
      "source": [
        "# 17. Create a class Book with attributes title, author, and year_published. Add a method get_book_info() that returns a formatted string with the book's details.\n",
        "\n",
        "class Book:\n",
        "    def __init__(self, title, author, year_published):\n",
        "        self.title = title\n",
        "        self.author = author\n",
        "        self.year_published = year_published\n",
        "\n",
        "    def get_book_info(self):\n",
        "        return f\"Title: {self.title}, Author: {self.author}, Year Published: {self.year_published}\"\n",
        "\n",
        "# Example usage\n",
        "book = Book(\"To Kill a Mockingbird\", \"Harper Lee\", 1960)\n",
        "print(book.get_book_info())  # Output: Title: To Kill a Mockingbird, Author: Harper Lee, Year Published: 1960\n"
      ],
      "metadata": {
        "colab": {
          "base_uri": "https://localhost:8080/"
        },
        "id": "ONaMEQ_dL37G",
        "outputId": "dc6a3b24-418b-4269-ec2d-4375b91acd54"
      },
      "execution_count": 17,
      "outputs": [
        {
          "output_type": "stream",
          "name": "stdout",
          "text": [
            "Title: To Kill a Mockingbird, Author: Harper Lee, Year Published: 1960\n"
          ]
        }
      ]
    },
    {
      "cell_type": "code",
      "source": [
        "# 18. Create a class House with attributes address and price. Create a derived class Mansion that adds an attribute number_of_rooms.\n",
        "\n",
        "class House:\n",
        "    def __init__(self, address, price):\n",
        "        self.address = address\n",
        "        self.price = price\n",
        "\n",
        "class Mansion(House):\n",
        "    def __init__(self, address, price, number_of_rooms):\n",
        "        super().__init__(address, price)\n",
        "        self.number_of_rooms = number_of_rooms\n",
        "\n",
        "# Example usage\n",
        "mansion = Mansion(\"1234 Sunset Blvd\", 5000000, 12)\n",
        "print(f\"Address: {mansion.address}, Price: {mansion.price}, Number of Rooms: {mansion.number_of_rooms}\")\n",
        "# Output: Address: 1234 Sunset Blvd, Price: 5000000, Number of Rooms: 12\n"
      ],
      "metadata": {
        "colab": {
          "base_uri": "https://localhost:8080/"
        },
        "id": "bKWRuJhsL3-a",
        "outputId": "afb384ed-9465-4ac0-f803-3860bc7c764e"
      },
      "execution_count": 18,
      "outputs": [
        {
          "output_type": "stream",
          "name": "stdout",
          "text": [
            "Address: 1234 Sunset Blvd, Price: 5000000, Number of Rooms: 12\n"
          ]
        }
      ]
    }
  ]
}